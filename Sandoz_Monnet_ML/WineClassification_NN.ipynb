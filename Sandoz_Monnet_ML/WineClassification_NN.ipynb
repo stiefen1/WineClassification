{
 "cells": [
  {
   "cell_type": "markdown",
   "metadata": {},
   "source": [
    "## Wine Classification using Neural Networks\n",
    "    Auteur : Thierry SANDOZ and Stephen MONNET                        \n",
    "    Date : 10.06.2020 "
   ]
  },
  {
   "cell_type": "code",
   "execution_count": 1,
   "metadata": {},
   "outputs": [],
   "source": [
    "from sys import path\n",
    "path.append('functions')\n",
    "from WineClassificationLib import *\n",
    "\n",
    "from random import random\n",
    "import numpy as np\n",
    "import pandas as pd\n",
    "import matplotlib.pyplot as plt\n",
    "\n",
    "# PCA (principal component analysis)\n",
    "from sklearn.decomposition import PCA\n",
    "\n",
    "## Optimizing a function\n",
    "import scipy.optimize as opt\n",
    "import scipy.io\n",
    "# Normalization \n",
    "from sklearn import preprocessing\n",
    "\n",
    "# Data separation \n",
    "from sklearn.model_selection import train_test_split"
   ]
  },
  {
   "cell_type": "markdown",
   "metadata": {},
   "source": [
    "## Data Loading"
   ]
  },
  {
   "cell_type": "markdown",
   "metadata": {},
   "source": [
    "Les données sont chargées dans la variable dataWine et réparties selon leur nature (densité, pH, quality, etc..)"
   ]
  },
  {
   "cell_type": "code",
   "execution_count": 2,
   "metadata": {},
   "outputs": [
    {
     "data": {
      "text/html": [
       "<div>\n",
       "<style scoped>\n",
       "    .dataframe tbody tr th:only-of-type {\n",
       "        vertical-align: middle;\n",
       "    }\n",
       "\n",
       "    .dataframe tbody tr th {\n",
       "        vertical-align: top;\n",
       "    }\n",
       "\n",
       "    .dataframe thead th {\n",
       "        text-align: right;\n",
       "    }\n",
       "</style>\n",
       "<table border=\"1\" class=\"dataframe\">\n",
       "  <thead>\n",
       "    <tr style=\"text-align: right;\">\n",
       "      <th></th>\n",
       "      <th>fixed acidity</th>\n",
       "      <th>volatile acidity</th>\n",
       "      <th>citric acid</th>\n",
       "      <th>residual sugar</th>\n",
       "      <th>chlorides</th>\n",
       "      <th>free sulfur dioxide</th>\n",
       "      <th>total sulfur dioxide</th>\n",
       "      <th>density</th>\n",
       "      <th>pH</th>\n",
       "      <th>sulphates</th>\n",
       "      <th>alcohol</th>\n",
       "      <th>quality</th>\n",
       "    </tr>\n",
       "  </thead>\n",
       "  <tbody>\n",
       "    <tr>\n",
       "      <th>0</th>\n",
       "      <td>7.0</td>\n",
       "      <td>0.27</td>\n",
       "      <td>0.36</td>\n",
       "      <td>20.7</td>\n",
       "      <td>0.045</td>\n",
       "      <td>45.0</td>\n",
       "      <td>170.0</td>\n",
       "      <td>1.0010</td>\n",
       "      <td>3.00</td>\n",
       "      <td>0.45</td>\n",
       "      <td>8.8</td>\n",
       "      <td>6</td>\n",
       "    </tr>\n",
       "    <tr>\n",
       "      <th>1</th>\n",
       "      <td>6.3</td>\n",
       "      <td>0.30</td>\n",
       "      <td>0.34</td>\n",
       "      <td>1.6</td>\n",
       "      <td>0.049</td>\n",
       "      <td>14.0</td>\n",
       "      <td>132.0</td>\n",
       "      <td>0.9940</td>\n",
       "      <td>3.30</td>\n",
       "      <td>0.49</td>\n",
       "      <td>9.5</td>\n",
       "      <td>6</td>\n",
       "    </tr>\n",
       "    <tr>\n",
       "      <th>2</th>\n",
       "      <td>8.1</td>\n",
       "      <td>0.28</td>\n",
       "      <td>0.40</td>\n",
       "      <td>6.9</td>\n",
       "      <td>0.050</td>\n",
       "      <td>30.0</td>\n",
       "      <td>97.0</td>\n",
       "      <td>0.9951</td>\n",
       "      <td>3.26</td>\n",
       "      <td>0.44</td>\n",
       "      <td>10.1</td>\n",
       "      <td>6</td>\n",
       "    </tr>\n",
       "    <tr>\n",
       "      <th>3</th>\n",
       "      <td>7.2</td>\n",
       "      <td>0.23</td>\n",
       "      <td>0.32</td>\n",
       "      <td>8.5</td>\n",
       "      <td>0.058</td>\n",
       "      <td>47.0</td>\n",
       "      <td>186.0</td>\n",
       "      <td>0.9956</td>\n",
       "      <td>3.19</td>\n",
       "      <td>0.40</td>\n",
       "      <td>9.9</td>\n",
       "      <td>6</td>\n",
       "    </tr>\n",
       "    <tr>\n",
       "      <th>4</th>\n",
       "      <td>7.2</td>\n",
       "      <td>0.23</td>\n",
       "      <td>0.32</td>\n",
       "      <td>8.5</td>\n",
       "      <td>0.058</td>\n",
       "      <td>47.0</td>\n",
       "      <td>186.0</td>\n",
       "      <td>0.9956</td>\n",
       "      <td>3.19</td>\n",
       "      <td>0.40</td>\n",
       "      <td>9.9</td>\n",
       "      <td>6</td>\n",
       "    </tr>\n",
       "  </tbody>\n",
       "</table>\n",
       "</div>"
      ],
      "text/plain": [
       "   fixed acidity  volatile acidity  citric acid  residual sugar  chlorides  \\\n",
       "0            7.0              0.27         0.36            20.7      0.045   \n",
       "1            6.3              0.30         0.34             1.6      0.049   \n",
       "2            8.1              0.28         0.40             6.9      0.050   \n",
       "3            7.2              0.23         0.32             8.5      0.058   \n",
       "4            7.2              0.23         0.32             8.5      0.058   \n",
       "\n",
       "   free sulfur dioxide  total sulfur dioxide  density    pH  sulphates  \\\n",
       "0                 45.0                 170.0   1.0010  3.00       0.45   \n",
       "1                 14.0                 132.0   0.9940  3.30       0.49   \n",
       "2                 30.0                  97.0   0.9951  3.26       0.44   \n",
       "3                 47.0                 186.0   0.9956  3.19       0.40   \n",
       "4                 47.0                 186.0   0.9956  3.19       0.40   \n",
       "\n",
       "   alcohol  quality  \n",
       "0      8.8        6  \n",
       "1      9.5        6  \n",
       "2     10.1        6  \n",
       "3      9.9        6  \n",
       "4      9.9        6  "
      ]
     },
     "metadata": {},
     "output_type": "display_data"
    },
    {
     "name": "stdout",
     "output_type": "stream",
     "text": [
      "Nombre de données : 4898\n",
      "Note minimale : 3\n",
      "Note maximale : 9\n"
     ]
    }
   ],
   "source": [
    "dataWine = pd.read_csv(\"data/winequality-white.csv\", sep=';')\n",
    "\n",
    "## Diplay the first five row of the datas\n",
    "display(dataWine.head(n=5))\n",
    "\n",
    "## Number of data\n",
    "nb_data = len(dataWine)\n",
    "print(\"Nombre de données : {}\".format(nb_data))\n",
    "\n",
    "## Separation of the data\n",
    "fixAcid     = dataWine['fixed acidity']\n",
    "volAcid     = dataWine['volatile acidity']\n",
    "citAcid     = dataWine['citric acid']\n",
    "resSugar    = dataWine['residual sugar']\n",
    "chlor       = dataWine['chlorides']\n",
    "freeSulfDio = dataWine['free sulfur dioxide']\n",
    "totSulDio   = dataWine['total sulfur dioxide']\n",
    "density     = dataWine['density']\n",
    "pH          = dataWine['pH']\n",
    "sulph       = dataWine['sulphates']\n",
    "alc         = dataWine['alcohol']\n",
    "quality     = dataWine['quality']\n",
    "\n",
    "# Affichage des notes minimales et maximales attribuées\n",
    "print(\"Note minimale : {}\".format(min(quality)))\n",
    "print(\"Note maximale : {}\".format(max(quality)))"
   ]
  },
  {
   "cell_type": "markdown",
   "metadata": {},
   "source": [
    "## Change of quality rating"
   ]
  },
  {
   "cell_type": "markdown",
   "metadata": {},
   "source": [
    "Puisqu'il y a très peu (voir pas) de données dans les notes extrêmes, on regroupe les notes de 1-4, de 5-6 et de 7-10 afin d'obtenir trois classes plus équilibrées. On passe d'une notation entre 0 - 9 à une notation entre 0 - 2."
   ]
  },
  {
   "cell_type": "code",
   "execution_count": 3,
   "metadata": {},
   "outputs": [
    {
     "data": {
      "text/html": [
       "<div>\n",
       "<style scoped>\n",
       "    .dataframe tbody tr th:only-of-type {\n",
       "        vertical-align: middle;\n",
       "    }\n",
       "\n",
       "    .dataframe tbody tr th {\n",
       "        vertical-align: top;\n",
       "    }\n",
       "\n",
       "    .dataframe thead th {\n",
       "        text-align: right;\n",
       "    }\n",
       "</style>\n",
       "<table border=\"1\" class=\"dataframe\">\n",
       "  <thead>\n",
       "    <tr style=\"text-align: right;\">\n",
       "      <th></th>\n",
       "      <th>fixed acidity</th>\n",
       "      <th>volatile acidity</th>\n",
       "      <th>citric acid</th>\n",
       "      <th>residual sugar</th>\n",
       "      <th>chlorides</th>\n",
       "      <th>free sulfur dioxide</th>\n",
       "      <th>total sulfur dioxide</th>\n",
       "      <th>density</th>\n",
       "      <th>pH</th>\n",
       "      <th>sulphates</th>\n",
       "      <th>alcohol</th>\n",
       "      <th>quality</th>\n",
       "      <th>quality_categorical</th>\n",
       "    </tr>\n",
       "  </thead>\n",
       "  <tbody>\n",
       "    <tr>\n",
       "      <th>0</th>\n",
       "      <td>7.0</td>\n",
       "      <td>0.27</td>\n",
       "      <td>0.36</td>\n",
       "      <td>20.7</td>\n",
       "      <td>0.045</td>\n",
       "      <td>45.0</td>\n",
       "      <td>170.0</td>\n",
       "      <td>1.0010</td>\n",
       "      <td>3.00</td>\n",
       "      <td>0.45</td>\n",
       "      <td>8.8</td>\n",
       "      <td>6</td>\n",
       "      <td>2</td>\n",
       "    </tr>\n",
       "    <tr>\n",
       "      <th>1</th>\n",
       "      <td>6.3</td>\n",
       "      <td>0.30</td>\n",
       "      <td>0.34</td>\n",
       "      <td>1.6</td>\n",
       "      <td>0.049</td>\n",
       "      <td>14.0</td>\n",
       "      <td>132.0</td>\n",
       "      <td>0.9940</td>\n",
       "      <td>3.30</td>\n",
       "      <td>0.49</td>\n",
       "      <td>9.5</td>\n",
       "      <td>6</td>\n",
       "      <td>2</td>\n",
       "    </tr>\n",
       "    <tr>\n",
       "      <th>2</th>\n",
       "      <td>8.1</td>\n",
       "      <td>0.28</td>\n",
       "      <td>0.40</td>\n",
       "      <td>6.9</td>\n",
       "      <td>0.050</td>\n",
       "      <td>30.0</td>\n",
       "      <td>97.0</td>\n",
       "      <td>0.9951</td>\n",
       "      <td>3.26</td>\n",
       "      <td>0.44</td>\n",
       "      <td>10.1</td>\n",
       "      <td>6</td>\n",
       "      <td>2</td>\n",
       "    </tr>\n",
       "    <tr>\n",
       "      <th>3</th>\n",
       "      <td>7.2</td>\n",
       "      <td>0.23</td>\n",
       "      <td>0.32</td>\n",
       "      <td>8.5</td>\n",
       "      <td>0.058</td>\n",
       "      <td>47.0</td>\n",
       "      <td>186.0</td>\n",
       "      <td>0.9956</td>\n",
       "      <td>3.19</td>\n",
       "      <td>0.40</td>\n",
       "      <td>9.9</td>\n",
       "      <td>6</td>\n",
       "      <td>2</td>\n",
       "    </tr>\n",
       "    <tr>\n",
       "      <th>4</th>\n",
       "      <td>7.2</td>\n",
       "      <td>0.23</td>\n",
       "      <td>0.32</td>\n",
       "      <td>8.5</td>\n",
       "      <td>0.058</td>\n",
       "      <td>47.0</td>\n",
       "      <td>186.0</td>\n",
       "      <td>0.9956</td>\n",
       "      <td>3.19</td>\n",
       "      <td>0.40</td>\n",
       "      <td>9.9</td>\n",
       "      <td>6</td>\n",
       "      <td>2</td>\n",
       "    </tr>\n",
       "  </tbody>\n",
       "</table>\n",
       "</div>"
      ],
      "text/plain": [
       "   fixed acidity  volatile acidity  citric acid  residual sugar  chlorides  \\\n",
       "0            7.0              0.27         0.36            20.7      0.045   \n",
       "1            6.3              0.30         0.34             1.6      0.049   \n",
       "2            8.1              0.28         0.40             6.9      0.050   \n",
       "3            7.2              0.23         0.32             8.5      0.058   \n",
       "4            7.2              0.23         0.32             8.5      0.058   \n",
       "\n",
       "   free sulfur dioxide  total sulfur dioxide  density    pH  sulphates  \\\n",
       "0                 45.0                 170.0   1.0010  3.00       0.45   \n",
       "1                 14.0                 132.0   0.9940  3.30       0.49   \n",
       "2                 30.0                  97.0   0.9951  3.26       0.44   \n",
       "3                 47.0                 186.0   0.9956  3.19       0.40   \n",
       "4                 47.0                 186.0   0.9956  3.19       0.40   \n",
       "\n",
       "   alcohol  quality quality_categorical  \n",
       "0      8.8        6                   2  \n",
       "1      9.5        6                   2  \n",
       "2     10.1        6                   2  \n",
       "3      9.9        6                   2  \n",
       "4      9.9        6                   2  "
      ]
     },
     "metadata": {},
     "output_type": "display_data"
    },
    {
     "data": {
      "image/png": "[encoded data removed]",
      "text/plain": [
       "<Figure size 792x360 with 1 Axes>"
      ]
     },
     "metadata": {},
     "output_type": "display_data"
    }
   ],
   "source": [
    "# Defining the splits for categories. 1–4 will be poor quality, 5–6 will be average, 7–10 will be great\n",
    "bins = [3,4,5,6,7,9]\n",
    "# 0 for low quality, 1 for average, 2 for great quality\n",
    "quality_labels=[0,1,2,3,4]\n",
    "dataWine['quality_categorical'] = pd.cut(dataWine['quality'], bins=bins, labels=quality_labels, include_lowest=True)\n",
    "\n",
    "#Displays the first 2 columns\n",
    "display(dataWine.head(n=5))\n",
    "\n",
    "# Split the data into features and target label\n",
    "quality_raw = dataWine['quality_categorical']\n",
    "features_raw = dataWine.drop(['quality', 'quality_categorical'], axis = 1)\n",
    "\n",
    "# Display the quality distribution\n",
    "distribution(dataWine, 'quality_categorical')"
   ]
  },
  {
   "cell_type": "markdown",
   "metadata": {},
   "source": [
    "## Normalization"
   ]
  },
  {
   "cell_type": "markdown",
   "metadata": {},
   "source": [
    "Normalisation des données dans une plage comprise entre 0 et 1."
   ]
  },
  {
   "cell_type": "code",
   "execution_count": 4,
   "metadata": {},
   "outputs": [
    {
     "data": {
      "text/html": [
       "<div>\n",
       "<style scoped>\n",
       "    .dataframe tbody tr th:only-of-type {\n",
       "        vertical-align: middle;\n",
       "    }\n",
       "\n",
       "    .dataframe tbody tr th {\n",
       "        vertical-align: top;\n",
       "    }\n",
       "\n",
       "    .dataframe thead th {\n",
       "        text-align: right;\n",
       "    }\n",
       "</style>\n",
       "<table border=\"1\" class=\"dataframe\">\n",
       "  <thead>\n",
       "    <tr style=\"text-align: right;\">\n",
       "      <th></th>\n",
       "      <th>fixed acidity</th>\n",
       "      <th>volatile acidity</th>\n",
       "      <th>citric acid</th>\n",
       "      <th>residual sugar</th>\n",
       "      <th>chlorides</th>\n",
       "      <th>free sulfur dioxide</th>\n",
       "      <th>total sulfur dioxide</th>\n",
       "      <th>density</th>\n",
       "      <th>pH</th>\n",
       "      <th>sulphates</th>\n",
       "      <th>alcohol</th>\n",
       "      <th>quality</th>\n",
       "      <th>quality_categorical</th>\n",
       "    </tr>\n",
       "  </thead>\n",
       "  <tbody>\n",
       "    <tr>\n",
       "      <th>0</th>\n",
       "      <td>0.307692</td>\n",
       "      <td>0.186275</td>\n",
       "      <td>0.216867</td>\n",
       "      <td>0.308282</td>\n",
       "      <td>0.106825</td>\n",
       "      <td>0.149826</td>\n",
       "      <td>0.373550</td>\n",
       "      <td>0.267785</td>\n",
       "      <td>0.254545</td>\n",
       "      <td>0.267442</td>\n",
       "      <td>0.129032</td>\n",
       "      <td>6</td>\n",
       "      <td>2</td>\n",
       "    </tr>\n",
       "    <tr>\n",
       "      <th>1</th>\n",
       "      <td>0.240385</td>\n",
       "      <td>0.215686</td>\n",
       "      <td>0.204819</td>\n",
       "      <td>0.015337</td>\n",
       "      <td>0.118694</td>\n",
       "      <td>0.041812</td>\n",
       "      <td>0.285383</td>\n",
       "      <td>0.132832</td>\n",
       "      <td>0.527273</td>\n",
       "      <td>0.313953</td>\n",
       "      <td>0.241935</td>\n",
       "      <td>6</td>\n",
       "      <td>2</td>\n",
       "    </tr>\n",
       "    <tr>\n",
       "      <th>2</th>\n",
       "      <td>0.413462</td>\n",
       "      <td>0.196078</td>\n",
       "      <td>0.240964</td>\n",
       "      <td>0.096626</td>\n",
       "      <td>0.121662</td>\n",
       "      <td>0.097561</td>\n",
       "      <td>0.204176</td>\n",
       "      <td>0.154039</td>\n",
       "      <td>0.490909</td>\n",
       "      <td>0.255814</td>\n",
       "      <td>0.338710</td>\n",
       "      <td>6</td>\n",
       "      <td>2</td>\n",
       "    </tr>\n",
       "    <tr>\n",
       "      <th>3</th>\n",
       "      <td>0.326923</td>\n",
       "      <td>0.147059</td>\n",
       "      <td>0.192771</td>\n",
       "      <td>0.121166</td>\n",
       "      <td>0.145401</td>\n",
       "      <td>0.156794</td>\n",
       "      <td>0.410673</td>\n",
       "      <td>0.163678</td>\n",
       "      <td>0.427273</td>\n",
       "      <td>0.209302</td>\n",
       "      <td>0.306452</td>\n",
       "      <td>6</td>\n",
       "      <td>2</td>\n",
       "    </tr>\n",
       "    <tr>\n",
       "      <th>4</th>\n",
       "      <td>0.326923</td>\n",
       "      <td>0.147059</td>\n",
       "      <td>0.192771</td>\n",
       "      <td>0.121166</td>\n",
       "      <td>0.145401</td>\n",
       "      <td>0.156794</td>\n",
       "      <td>0.410673</td>\n",
       "      <td>0.163678</td>\n",
       "      <td>0.427273</td>\n",
       "      <td>0.209302</td>\n",
       "      <td>0.306452</td>\n",
       "      <td>6</td>\n",
       "      <td>2</td>\n",
       "    </tr>\n",
       "  </tbody>\n",
       "</table>\n",
       "</div>"
      ],
      "text/plain": [
       "   fixed acidity  volatile acidity  citric acid  residual sugar  chlorides  \\\n",
       "0       0.307692          0.186275     0.216867        0.308282   0.106825   \n",
       "1       0.240385          0.215686     0.204819        0.015337   0.118694   \n",
       "2       0.413462          0.196078     0.240964        0.096626   0.121662   \n",
       "3       0.326923          0.147059     0.192771        0.121166   0.145401   \n",
       "4       0.326923          0.147059     0.192771        0.121166   0.145401   \n",
       "\n",
       "   free sulfur dioxide  total sulfur dioxide   density        pH  sulphates  \\\n",
       "0             0.149826              0.373550  0.267785  0.254545   0.267442   \n",
       "1             0.041812              0.285383  0.132832  0.527273   0.313953   \n",
       "2             0.097561              0.204176  0.154039  0.490909   0.255814   \n",
       "3             0.156794              0.410673  0.163678  0.427273   0.209302   \n",
       "4             0.156794              0.410673  0.163678  0.427273   0.209302   \n",
       "\n",
       "    alcohol  quality quality_categorical  \n",
       "0  0.129032        6                   2  \n",
       "1  0.241935        6                   2  \n",
       "2  0.338710        6                   2  \n",
       "3  0.306452        6                   2  \n",
       "4  0.306452        6                   2  "
      ]
     },
     "metadata": {},
     "output_type": "display_data"
    }
   ],
   "source": [
    "## Normalize the features between 0 and 1\n",
    "x = dataWine.values #returns a numpy array\n",
    "\n",
    "# Registering quality before normalization\n",
    "quality = dataWine['quality']\n",
    "quality_categorical = dataWine['quality_categorical']\n",
    "\n",
    "min_max_scaler = preprocessing.MinMaxScaler()\n",
    "x_scaled = min_max_scaler.fit_transform(x)\n",
    "dataWine = pd.DataFrame(x_scaled, columns=dataWine.columns)\n",
    "\n",
    "# Avoid quality normalization\n",
    "dataWine['quality'] = quality\n",
    "dataWine['quality_categorical'] = quality_categorical\n",
    "\n",
    "## Diplay the first five row of the datas\n",
    "display(dataWine.head(n=5))"
   ]
  },
  {
   "cell_type": "markdown",
   "metadata": {},
   "source": [
    "## Removing the outliers\n",
    "Certaines données du dataset présentent des valeurs extrêmes qui sont trop éloignées du cas général. Une prédiction correcte de ces cas nécessiterait un overfitting qui serait néfaste pour la précision de l'algorithme. L'objectif ici est de supprimer ces données jugées abberantes."
   ]
  },
  {
   "cell_type": "code",
   "execution_count": 5,
   "metadata": {},
   "outputs": [
    {
     "name": "stdout",
     "output_type": "stream",
     "text": [
      "Nb data before removing the outliers : 4898\n",
      "Nb data after removing the outliers : 4009\n"
     ]
    }
   ],
   "source": [
    "# For each feature find the data points with extreme high or low values\n",
    "outliers = []\n",
    "features_raw = dataWine.drop(['quality', 'quality_categorical'], axis = 1)\n",
    "quality_raw = dataWine['quality_categorical']\n",
    "\n",
    "for feature in features_raw.keys():\n",
    "\n",
    "    Q1 = np.percentile(features_raw[feature], q=25)\n",
    "\n",
    "    Q3 = np.percentile(features_raw[feature], q=75)\n",
    "    \n",
    "    interquartile_range = Q3 - Q1\n",
    "    step = 1.5 * interquartile_range\n",
    "    \n",
    "    #print(\"Data points considered outliers for the feature '{}':\".format(feature))\n",
    "    #display(dataWine[~((dataWine[feature] >= Q1 - step) & (dataWine[feature] <= Q3 + step))])\n",
    "\n",
    "    outliers = outliers + list(features_raw[~((features_raw[feature] >= Q1 - step) & (features_raw[feature] <= Q3 + step))].index)\n",
    "    \n",
    "    # Remove the outliers, if any were specified\n",
    "    good_data = features_raw.drop(features_raw.index[outliers]).reset_index(drop = True)\n",
    "    good_quality = quality_raw.drop(quality_raw.index[outliers]).reset_index(drop = True)\n",
    "    \n",
    "print(\"Nb data before removing the outliers :\", len(dataWine))\n",
    "print(\"Nb data after removing the outliers :\", len(good_data))"
   ]
  },
  {
   "cell_type": "markdown",
   "metadata": {},
   "source": [
    "## Set Separation\n",
    "Séparation du set de données en trois sets : Training set (60%), Cross-Validation set (20%) et Test set (20%)."
   ]
  },
  {
   "cell_type": "code",
   "execution_count": 6,
   "metadata": {},
   "outputs": [
    {
     "name": "stdout",
     "output_type": "stream",
     "text": [
      "Training set has 2405 samples. which represents 60.0% of the set\n",
      "Cross-Validation set has 802 samples which represents 20.0% of the set\n",
      "Testing set has 802 samples. which represents 20.0% of the set\n"
     ]
    }
   ],
   "source": [
    "# Split the 'features' and 'income' data into training and testing sets\n",
    "X_train, X_test, y_train, y_test = train_test_split(good_data, \n",
    " good_quality, test_size = 0.4, shuffle = False)\n",
    "\n",
    "# Split the training set into training set and CV set\n",
    "X_cv, X_test, y_cv, y_test = train_test_split(X_test, y_test, test_size = 0.5, shuffle = False)\n",
    "\n",
    "# Show the results of the split\n",
    "print(\"Training set has {} samples.\".format(X_train.shape[0]), \"which represents {}% of the set\".format(round(100*X_train.shape[0]/(good_data.shape[0]),1)))\n",
    "print(\"Cross-Validation set has {} samples\".format(X_cv.shape[0]), \"which represents {}% of the set\".format(round(100*X_cv.shape[0]/(good_data.shape[0]),1)))\n",
    "print(\"Testing set has {} samples.\".format(X_test.shape[0]), \"which represents {}% of the set\".format(round(100*X_test.shape[0]/(good_data.shape[0]),1)))\n"
   ]
  },
  {
   "cell_type": "markdown",
   "metadata": {},
   "source": [
    "## General Neural Networks features\n",
    "Déclaration des caractéristiques du réseau de neurones : Nombre de couche cachée et leur taille, nombre de neurones d'entrée et de sortie. "
   ]
  },
  {
   "cell_type": "code",
   "execution_count": 7,
   "metadata": {},
   "outputs": [],
   "source": [
    "# number of hidden layers\n",
    "nb_hidden_layers = 1\n",
    "\n",
    "# number of neurones in the hidden layer\n",
    "nb_hidden_neurones = 5\n",
    "\n",
    "# number of input neurones\n",
    "nb_input_neurones = dataWine.shape[1]-2 # corresponds to the input parameters number\n",
    "\n",
    "# number of output neurones\n",
    "nb_output_neurones = len(quality_labels) # corresponds to the class number\n"
   ]
  },
  {
   "cell_type": "markdown",
   "metadata": {},
   "source": [
    "## Random initialization of parameters \\theta\n",
    "Les paramètres Theta1, Theta2 sont initialisé aléatoirement."
   ]
  },
  {
   "cell_type": "code",
   "execution_count": 8,
   "metadata": {},
   "outputs": [],
   "source": [
    "# Two matrix of theta correspondig to three layers\n",
    "Theta1 = np.random.rand(nb_hidden_neurones, nb_input_neurones+1)\n",
    "Theta2 = np.random.rand(nb_output_neurones, nb_hidden_neurones+1)\n",
    "\n",
    "epsilon_init = 0.12\n",
    "\n",
    "Theta1 = Theta1*(2*epsilon_init) - epsilon_init\n",
    "Theta2 = Theta2*(2*epsilon_init) - epsilon_init\n",
    "\n",
    "# Concatenate Theta1 and Theta2 into one variable \"nn_params\"\n",
    "nn_params = np.concatenate((Theta1.reshape(Theta1.size, order='F'), Theta2.reshape(Theta2.size, order='F')))"
   ]
  },
  {
   "cell_type": "markdown",
   "metadata": {},
   "source": [
    "## Choosing Lambda"
   ]
  },
  {
   "cell_type": "code",
   "execution_count": 9,
   "metadata": {},
   "outputs": [
    {
     "name": "stdout",
     "output_type": "stream",
     "text": [
      "0.0\n",
      "0.1\n",
      "0.2\n",
      "0.30000000000000004\n",
      "0.4\n",
      "0.5\n",
      "0.6000000000000001\n",
      "0.7000000000000001\n",
      "0.8\n",
      "0.9\n"
     ]
    },
    {
     "data": {
      "image/png": "[encoded data removed]",
      "text/plain": [
       "<Figure size 432x288 with 1 Axes>"
      ]
     },
     "metadata": {},
     "output_type": "display_data"
    }
   ],
   "source": [
    "# Initialization of Lambda\n",
    "Lambda = 0\n",
    "\n",
    "# Min and max value of tested Lambda\n",
    "Lambda_min = 0\n",
    "Lambda_max = 1\n",
    "\n",
    "# Step between every test\n",
    "step = 0.1\n",
    "\n",
    "# Initialisation of the cost variable\n",
    "J_learn_Lambda = np.zeros([int((Lambda_max-Lambda_min)/step),1])\n",
    "\n",
    "# Number of iterations in the optimization function for every Lambda\n",
    "nb_iter = 30\n",
    "\n",
    "for i in np.arange(Lambda_min, Lambda_max, step):\n",
    "    # Compute the cost function nb_iter times for one value of Lambda\n",
    "    J_learn, _ = nnGradientDescent(nn_params, nb_input_neurones, nb_hidden_neurones, nb_output_neurones, X_train, y_train, i, nb_iter)\n",
    "    # Get the min value of the cost function computed for one value of Lambda\n",
    "    J_learn_Lambda[int(i/step)] = min(J_learn)\n",
    "    \n",
    "# Displaying cost function = f(Lambda)\n",
    "plt.plot(np.arange(Lambda_min, Lambda_max, step),J_learn_Lambda)\n",
    "plt.xlabel(\"Lambda\")\n",
    "plt.ylabel(\"Cost\")\n",
    "plt.title(\"Lambda = f(cost)\")\n",
    "plt.show()\n",
    "\n",
    "# Choosing the optimal value for Lambda \n",
    "Lambda = 0.3"
   ]
  },
  {
   "cell_type": "markdown",
   "metadata": {},
   "source": [
    "## Learning Curve\n",
    "Calcul est affichage de la fonction de coût en fonction du nombre d'itérations réalisées par l'algorithme d'optimisation."
   ]
  },
  {
   "cell_type": "code",
   "execution_count": 10,
   "metadata": {},
   "outputs": [
    {
     "data": {
      "image/png": "[encoded data removed]",
      "text/plain": [
       "<Figure size 432x288 with 1 Axes>"
      ]
     },
     "metadata": {},
     "output_type": "display_data"
    }
   ],
   "source": [
    "# Compute the cost function for every iteration, return nn_params which contains Theta1 and Theta2\n",
    "J_learn_train, nn_params = nnGradientDescent(nn_params, nb_input_neurones, nb_hidden_neurones, \\\n",
    "    nb_output_neurones, X_train, y_train, Lambda, 30)\n",
    "\n",
    "# Display the learning curve for the training set \n",
    "plt.plot(range(0,len(J_learn_train),1),J_learn_train)\n",
    "plt.title(\"Gradient Descent : Training set\")\n",
    "plt.xlabel(\"Iterations\")\n",
    "plt.ylabel(\"Cost\")\n",
    "plt.show()"
   ]
  },
  {
   "cell_type": "markdown",
   "metadata": {},
   "source": [
    "## Prediction - C-V set\n",
    "Prédiction des notes attribuées par le réseau de neurones sur le Cross-Validation set."
   ]
  },
  {
   "cell_type": "code",
   "execution_count": 11,
   "metadata": {},
   "outputs": [
    {
     "data": {
      "image/png": "[encoded data removed]",
      "text/plain": [
       "<Figure size 432x288 with 2 Axes>"
      ]
     },
     "metadata": {},
     "output_type": "display_data"
    },
    {
     "name": "stdout",
     "output_type": "stream",
     "text": [
      "Cross-Validation accuracy: 46.88279301745636%\n"
     ]
    }
   ],
   "source": [
    "# Reshape nn_params into Theta1 and Theta2\n",
    "Theta1 = np.reshape(nn_params[:nb_hidden_neurones * (nb_input_neurones + 1)], (nb_hidden_neurones, nb_input_neurones + 1), order='F')\n",
    "Theta2 = np.reshape(nn_params[nb_hidden_neurones * (nb_input_neurones + 1):], (nb_output_neurones, nb_hidden_neurones + 1), order='F')\n",
    "\n",
    "# Prediction for c-v set\n",
    "pred_cv_set = predict(Theta1, Theta2, X_cv)\n",
    "\n",
    "# Display the confusion matrix for c-v set\n",
    "confusion_matrix_cv = pd.crosstab(y_cv, pred_cv_set, rownames=['Actual'], colnames=['Predicted'])\n",
    "sns.heatmap(confusion_matrix_cv, annot=True)\n",
    "plt.show()\n",
    "\n",
    "# Accuracy for c-v set\n",
    "print(\"Cross-Validation accuracy:\", str(100 * np.mean(pred_cv_set == y_cv)) + \"%\")"
   ]
  },
  {
   "cell_type": "markdown",
   "metadata": {},
   "source": [
    "## Training neural network\n",
    "Entrainement du réseau de neurones avec les paramètres choisis précédemment."
   ]
  },
  {
   "cell_type": "code",
   "execution_count": 12,
   "metadata": {},
   "outputs": [],
   "source": [
    "# Choosing the number of iterations\n",
    "nb_iter = 30\n",
    "\n",
    "# random initialisation of parameters Theta1 and Theta2\n",
    "Theta1 = np.random.rand(nb_hidden_neurones, nb_input_neurones+1)\n",
    "Theta2 = np.random.rand(nb_output_neurones, nb_hidden_neurones+1)\n",
    "\n",
    "# Choosing the max random value\n",
    "epsilon_init = 0.12\n",
    "\n",
    "Theta1 = Theta1*(2*epsilon_init) - epsilon_init\n",
    "Theta2 = Theta2*(2*epsilon_init) - epsilon_init\n",
    "\n",
    "# Concatenate Theta1 and Theta2 into nn_params\n",
    "nn_params = np.concatenate((Theta1.reshape(Theta1.size, order='F'), Theta2.reshape(Theta2.size, order='F')))\n",
    "\n",
    "# Arguments of the optimization function\n",
    "arguments = (nb_input_neurones , nb_hidden_neurones, nb_output_neurones, X_train, y_train, Lambda)\n",
    "\n",
    "# Neural Network training\n",
    "res = opt.minimize(nnCostFunction, x0=nn_params, args=arguments, method=\"L-BFGS-B\", options={'maxiter':nb_iter, 'disp':True}, jac=True)\n",
    "\n",
    "# Get Theta1 and Theta2 from nn_params after training\n",
    "nn_params = res['x']\n",
    "\n",
    "Theta1 = np.reshape(nn_params[:nb_hidden_neurones * (nb_input_neurones + 1)], (nb_hidden_neurones, nb_input_neurones + 1), order='F')\n",
    "Theta2 = np.reshape(nn_params[nb_hidden_neurones * (nb_input_neurones + 1):], (nb_output_neurones, nb_hidden_neurones + 1), order='F')"
   ]
  },
  {
   "cell_type": "markdown",
   "metadata": {},
   "source": [
    "## Prediction - Test set"
   ]
  },
  {
   "cell_type": "code",
   "execution_count": 13,
   "metadata": {},
   "outputs": [
    {
     "data": {
      "image/png": "[encoded data removed]",
      "text/plain": [
       "<Figure size 432x288 with 2 Axes>"
      ]
     },
     "metadata": {},
     "output_type": "display_data"
    },
    {
     "name": "stdout",
     "output_type": "stream",
     "text": [
      "Test set accuracy : 48.37905236907731%\n"
     ]
    }
   ],
   "source": [
    "# Prediction for the test set\n",
    "pred_test_set = predict(Theta1, Theta2, X_test)\n",
    "\n",
    "# Display the confusion matrix for the test set\n",
    "confusion_matrix_test = pd.crosstab(y_test, pred_test_set, rownames=['Actual'], colnames=['Predicted'])\n",
    "sns.heatmap(confusion_matrix_test, annot=True)\n",
    "plt.show()\n",
    "\n",
    "# Display the test set accuracy\n",
    "print(\"Test set accuracy :\", str(100 * np.mean(pred_test_set == y_test)) + \"%\")"
   ]
  }
 ],
 "metadata": {
  "kernelspec": {
   "display_name": "Python 3",
   "language": "python",
   "name": "python3"
  },
  "language_info": {
   "codemirror_mode": {
    "name": "ipython",
    "version": 3
   },
   "file_extension": ".py",
   "mimetype": "text/x-python",
   "name": "python",
   "nbconvert_exporter": "python",
   "pygments_lexer": "ipython3",
   "version": "3.7.6"
  }
 },
 "nbformat": 4,
 "nbformat_minor": 4
}
